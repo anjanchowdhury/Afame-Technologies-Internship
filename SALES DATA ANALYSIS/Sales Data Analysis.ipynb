{
  "cells": [
    {
      "cell_type": "code",
      "execution_count": 1,
      "metadata": {
        "colab": {
          "base_uri": "https://localhost:8080/"
        },
        "id": "2UXR8PQHS4fI",
        "outputId": "85dd845e-d41d-4d99-bc03-8b5932e21236"
      },
      "outputs": [],
      "source": [
        "#from google.colab import drive\n",
        "#drive.mount('/content/drive')"
      ]
    },
    {
      "cell_type": "code",
      "execution_count": 3,
      "metadata": {
        "id": "zzthAFeXTHAc"
      },
      "outputs": [],
      "source": [
        "import pandas as pd\n",
        "import matplotlib.pyplot as plt"
      ]
    },
    {
      "cell_type": "code",
      "execution_count": 5,
      "metadata": {
        "id": "AZupNWtnTfYU"
      },
      "outputs": [],
      "source": [
        "#df=pd.read_excel('/content/drive/MyDrive/Afame_Internship/Afame/ECOMM DATA.xlsx')\n",
        "df=pd.read_excel('ECOMM DATA.xlsx')"
      ]
    },
    {
      "cell_type": "markdown",
      "metadata": {
        "id": "lEWyje2KdobQ"
      },
      "source": [
        "## Data Auditing"
      ]
    },
    {
      "cell_type": "code",
      "execution_count": 6,
      "metadata": {
        "colab": {
          "base_uri": "https://localhost:8080/"
        },
        "id": "fNpGCWe3T7XJ",
        "outputId": "d3b85a8b-9c24-4bcd-af26-39ec9f887d91"
      },
      "outputs": [
        {
          "name": "stdout",
          "output_type": "stream",
          "text": [
            "<class 'pandas.core.frame.DataFrame'>\n",
            "RangeIndex: 51290 entries, 0 to 51289\n",
            "Data columns (total 24 columns):\n",
            " #   Column          Non-Null Count  Dtype         \n",
            "---  ------          --------------  -----         \n",
            " 0   Row ID          51290 non-null  int64         \n",
            " 1   Order ID        51290 non-null  object        \n",
            " 2   Order Date      51290 non-null  datetime64[ns]\n",
            " 3   Ship Date       51290 non-null  datetime64[ns]\n",
            " 4   Ship Mode       51290 non-null  object        \n",
            " 5   Customer ID     51290 non-null  object        \n",
            " 6   Customer Name   51290 non-null  object        \n",
            " 7   Segment         51290 non-null  object        \n",
            " 8   City            51290 non-null  object        \n",
            " 9   State           51290 non-null  object        \n",
            " 10  Country         51290 non-null  object        \n",
            " 11  Postal Code     9994 non-null   float64       \n",
            " 12  Market          51290 non-null  object        \n",
            " 13  Region          51290 non-null  object        \n",
            " 14  Product ID      51290 non-null  object        \n",
            " 15  Category        51290 non-null  object        \n",
            " 16  Sub-Category    51290 non-null  object        \n",
            " 17  Product Name    51290 non-null  object        \n",
            " 18  Sales           51290 non-null  float64       \n",
            " 19  Quantity        51290 non-null  int64         \n",
            " 20  Discount        51290 non-null  float64       \n",
            " 21  Profit          51290 non-null  float64       \n",
            " 22  Shipping Cost   51290 non-null  float64       \n",
            " 23  Order Priority  51290 non-null  object        \n",
            "dtypes: datetime64[ns](2), float64(5), int64(2), object(15)\n",
            "memory usage: 9.4+ MB\n"
          ]
        }
      ],
      "source": [
        "df.info()"
      ]
    },
    {
      "cell_type": "code",
      "execution_count": 7,
      "metadata": {
        "colab": {
          "base_uri": "https://localhost:8080/"
        },
        "id": "K1xQ9M8HUFTy",
        "outputId": "461e7720-98a1-4220-93b6-7bbe3de55a92"
      },
      "outputs": [
        {
          "data": {
            "text/plain": [
              "(51290, 24)"
            ]
          },
          "execution_count": 7,
          "metadata": {},
          "output_type": "execute_result"
        }
      ],
      "source": [
        "df.shape"
      ]
    },
    {
      "cell_type": "code",
      "execution_count": 8,
      "metadata": {
        "colab": {
          "base_uri": "https://localhost:8080/"
        },
        "id": "rV4Ipm8jU12s",
        "outputId": "bc3cdc7e-0afe-4b6d-d74d-0c882f447e18"
      },
      "outputs": [
        {
          "data": {
            "text/plain": [
              "1230960"
            ]
          },
          "execution_count": 8,
          "metadata": {},
          "output_type": "execute_result"
        }
      ],
      "source": [
        "df.size"
      ]
    },
    {
      "cell_type": "code",
      "execution_count": 9,
      "metadata": {
        "colab": {
          "base_uri": "https://localhost:8080/"
        },
        "id": "Vwd1I5FrU3v7",
        "outputId": "c16d4e87-7535-4d72-d36a-207a18ec0fe3"
      },
      "outputs": [
        {
          "data": {
            "text/plain": [
              "Index(['Row ID', 'Order ID', 'Order Date', 'Ship Date', 'Ship Mode',\n",
              "       'Customer ID', 'Customer Name', 'Segment', 'City', 'State', 'Country',\n",
              "       'Postal Code', 'Market', 'Region', 'Product ID', 'Category',\n",
              "       'Sub-Category', 'Product Name', 'Sales', 'Quantity', 'Discount',\n",
              "       'Profit', 'Shipping Cost', 'Order Priority'],\n",
              "      dtype='object')"
            ]
          },
          "execution_count": 9,
          "metadata": {},
          "output_type": "execute_result"
        }
      ],
      "source": [
        "df.columns"
      ]
    },
    {
      "cell_type": "code",
      "execution_count": 10,
      "metadata": {
        "colab": {
          "base_uri": "https://localhost:8080/",
          "height": 602
        },
        "id": "3NKL3QHOU--S",
        "outputId": "1e25e6c4-8439-4878-9f2b-3b38ef058f83"
      },
      "outputs": [
        {
          "data": {
            "text/html": [
              "<div>\n",
              "<style scoped>\n",
              "    .dataframe tbody tr th:only-of-type {\n",
              "        vertical-align: middle;\n",
              "    }\n",
              "\n",
              "    .dataframe tbody tr th {\n",
              "        vertical-align: top;\n",
              "    }\n",
              "\n",
              "    .dataframe thead th {\n",
              "        text-align: right;\n",
              "    }\n",
              "</style>\n",
              "<table border=\"1\" class=\"dataframe\">\n",
              "  <thead>\n",
              "    <tr style=\"text-align: right;\">\n",
              "      <th></th>\n",
              "      <th>Row ID</th>\n",
              "      <th>Order ID</th>\n",
              "      <th>Order Date</th>\n",
              "      <th>Ship Date</th>\n",
              "      <th>Ship Mode</th>\n",
              "      <th>Customer ID</th>\n",
              "      <th>Customer Name</th>\n",
              "      <th>Segment</th>\n",
              "      <th>City</th>\n",
              "      <th>State</th>\n",
              "      <th>...</th>\n",
              "      <th>Product ID</th>\n",
              "      <th>Category</th>\n",
              "      <th>Sub-Category</th>\n",
              "      <th>Product Name</th>\n",
              "      <th>Sales</th>\n",
              "      <th>Quantity</th>\n",
              "      <th>Discount</th>\n",
              "      <th>Profit</th>\n",
              "      <th>Shipping Cost</th>\n",
              "      <th>Order Priority</th>\n",
              "    </tr>\n",
              "  </thead>\n",
              "  <tbody>\n",
              "    <tr>\n",
              "      <th>0</th>\n",
              "      <td>32298</td>\n",
              "      <td>CA-2012-124891</td>\n",
              "      <td>2012-07-31</td>\n",
              "      <td>2012-07-31</td>\n",
              "      <td>Same Day</td>\n",
              "      <td>RH-19495</td>\n",
              "      <td>Rick Hansen</td>\n",
              "      <td>Consumer</td>\n",
              "      <td>New York City</td>\n",
              "      <td>New York</td>\n",
              "      <td>...</td>\n",
              "      <td>TEC-AC-10003033</td>\n",
              "      <td>Technology</td>\n",
              "      <td>Accessories</td>\n",
              "      <td>Plantronics CS510 - Over-the-Head monaural Wir...</td>\n",
              "      <td>2309.650</td>\n",
              "      <td>7</td>\n",
              "      <td>0.0</td>\n",
              "      <td>762.1845</td>\n",
              "      <td>933.57</td>\n",
              "      <td>Critical</td>\n",
              "    </tr>\n",
              "    <tr>\n",
              "      <th>1</th>\n",
              "      <td>26341</td>\n",
              "      <td>IN-2013-77878</td>\n",
              "      <td>2013-02-05</td>\n",
              "      <td>2013-02-07</td>\n",
              "      <td>Second Class</td>\n",
              "      <td>JR-16210</td>\n",
              "      <td>Justin Ritter</td>\n",
              "      <td>Corporate</td>\n",
              "      <td>Wollongong</td>\n",
              "      <td>New South Wales</td>\n",
              "      <td>...</td>\n",
              "      <td>FUR-CH-10003950</td>\n",
              "      <td>Furniture</td>\n",
              "      <td>Chairs</td>\n",
              "      <td>Novimex Executive Leather Armchair, Black</td>\n",
              "      <td>3709.395</td>\n",
              "      <td>9</td>\n",
              "      <td>0.1</td>\n",
              "      <td>-288.7650</td>\n",
              "      <td>923.63</td>\n",
              "      <td>Critical</td>\n",
              "    </tr>\n",
              "    <tr>\n",
              "      <th>2</th>\n",
              "      <td>25330</td>\n",
              "      <td>IN-2013-71249</td>\n",
              "      <td>2013-10-17</td>\n",
              "      <td>2013-10-18</td>\n",
              "      <td>First Class</td>\n",
              "      <td>CR-12730</td>\n",
              "      <td>Craig Reiter</td>\n",
              "      <td>Consumer</td>\n",
              "      <td>Brisbane</td>\n",
              "      <td>Queensland</td>\n",
              "      <td>...</td>\n",
              "      <td>TEC-PH-10004664</td>\n",
              "      <td>Technology</td>\n",
              "      <td>Phones</td>\n",
              "      <td>Nokia Smart Phone, with Caller ID</td>\n",
              "      <td>5175.171</td>\n",
              "      <td>9</td>\n",
              "      <td>0.1</td>\n",
              "      <td>919.9710</td>\n",
              "      <td>915.49</td>\n",
              "      <td>Medium</td>\n",
              "    </tr>\n",
              "    <tr>\n",
              "      <th>3</th>\n",
              "      <td>13524</td>\n",
              "      <td>ES-2013-1579342</td>\n",
              "      <td>2013-01-28</td>\n",
              "      <td>2013-01-30</td>\n",
              "      <td>First Class</td>\n",
              "      <td>KM-16375</td>\n",
              "      <td>Katherine Murray</td>\n",
              "      <td>Home Office</td>\n",
              "      <td>Berlin</td>\n",
              "      <td>Berlin</td>\n",
              "      <td>...</td>\n",
              "      <td>TEC-PH-10004583</td>\n",
              "      <td>Technology</td>\n",
              "      <td>Phones</td>\n",
              "      <td>Motorola Smart Phone, Cordless</td>\n",
              "      <td>2892.510</td>\n",
              "      <td>5</td>\n",
              "      <td>0.1</td>\n",
              "      <td>-96.5400</td>\n",
              "      <td>910.16</td>\n",
              "      <td>Medium</td>\n",
              "    </tr>\n",
              "    <tr>\n",
              "      <th>4</th>\n",
              "      <td>47221</td>\n",
              "      <td>SG-2013-4320</td>\n",
              "      <td>2013-11-05</td>\n",
              "      <td>2013-11-06</td>\n",
              "      <td>Same Day</td>\n",
              "      <td>RH-9495</td>\n",
              "      <td>Rick Hansen</td>\n",
              "      <td>Consumer</td>\n",
              "      <td>Dakar</td>\n",
              "      <td>Dakar</td>\n",
              "      <td>...</td>\n",
              "      <td>TEC-SHA-10000501</td>\n",
              "      <td>Technology</td>\n",
              "      <td>Copiers</td>\n",
              "      <td>Sharp Wireless Fax, High-Speed</td>\n",
              "      <td>2832.960</td>\n",
              "      <td>8</td>\n",
              "      <td>0.0</td>\n",
              "      <td>311.5200</td>\n",
              "      <td>903.04</td>\n",
              "      <td>Critical</td>\n",
              "    </tr>\n",
              "  </tbody>\n",
              "</table>\n",
              "<p>5 rows × 24 columns</p>\n",
              "</div>"
            ],
            "text/plain": [
              "   Row ID         Order ID Order Date  Ship Date     Ship Mode Customer ID  \\\n",
              "0   32298   CA-2012-124891 2012-07-31 2012-07-31      Same Day    RH-19495   \n",
              "1   26341    IN-2013-77878 2013-02-05 2013-02-07  Second Class    JR-16210   \n",
              "2   25330    IN-2013-71249 2013-10-17 2013-10-18   First Class    CR-12730   \n",
              "3   13524  ES-2013-1579342 2013-01-28 2013-01-30   First Class    KM-16375   \n",
              "4   47221     SG-2013-4320 2013-11-05 2013-11-06      Same Day     RH-9495   \n",
              "\n",
              "      Customer Name      Segment           City            State  ...  \\\n",
              "0       Rick Hansen     Consumer  New York City         New York  ...   \n",
              "1     Justin Ritter    Corporate     Wollongong  New South Wales  ...   \n",
              "2      Craig Reiter     Consumer       Brisbane       Queensland  ...   \n",
              "3  Katherine Murray  Home Office         Berlin           Berlin  ...   \n",
              "4       Rick Hansen     Consumer          Dakar            Dakar  ...   \n",
              "\n",
              "         Product ID    Category Sub-Category  \\\n",
              "0   TEC-AC-10003033  Technology  Accessories   \n",
              "1   FUR-CH-10003950   Furniture       Chairs   \n",
              "2   TEC-PH-10004664  Technology       Phones   \n",
              "3   TEC-PH-10004583  Technology       Phones   \n",
              "4  TEC-SHA-10000501  Technology      Copiers   \n",
              "\n",
              "                                        Product Name     Sales Quantity  \\\n",
              "0  Plantronics CS510 - Over-the-Head monaural Wir...  2309.650        7   \n",
              "1          Novimex Executive Leather Armchair, Black  3709.395        9   \n",
              "2                  Nokia Smart Phone, with Caller ID  5175.171        9   \n",
              "3                     Motorola Smart Phone, Cordless  2892.510        5   \n",
              "4                     Sharp Wireless Fax, High-Speed  2832.960        8   \n",
              "\n",
              "  Discount    Profit  Shipping Cost  Order Priority  \n",
              "0      0.0  762.1845         933.57        Critical  \n",
              "1      0.1 -288.7650         923.63        Critical  \n",
              "2      0.1  919.9710         915.49          Medium  \n",
              "3      0.1  -96.5400         910.16          Medium  \n",
              "4      0.0  311.5200         903.04        Critical  \n",
              "\n",
              "[5 rows x 24 columns]"
            ]
          },
          "execution_count": 10,
          "metadata": {},
          "output_type": "execute_result"
        }
      ],
      "source": [
        "df.head()"
      ]
    },
    {
      "cell_type": "code",
      "execution_count": 11,
      "metadata": {
        "colab": {
          "base_uri": "https://localhost:8080/",
          "height": 550
        },
        "id": "sumWFlmjWSSO",
        "outputId": "af32929b-36ad-494f-b142-6cd35f869489"
      },
      "outputs": [
        {
          "data": {
            "text/html": [
              "<div>\n",
              "<style scoped>\n",
              "    .dataframe tbody tr th:only-of-type {\n",
              "        vertical-align: middle;\n",
              "    }\n",
              "\n",
              "    .dataframe tbody tr th {\n",
              "        vertical-align: top;\n",
              "    }\n",
              "\n",
              "    .dataframe thead th {\n",
              "        text-align: right;\n",
              "    }\n",
              "</style>\n",
              "<table border=\"1\" class=\"dataframe\">\n",
              "  <thead>\n",
              "    <tr style=\"text-align: right;\">\n",
              "      <th></th>\n",
              "      <th>Row ID</th>\n",
              "      <th>Order ID</th>\n",
              "      <th>Order Date</th>\n",
              "      <th>Ship Date</th>\n",
              "      <th>Ship Mode</th>\n",
              "      <th>Customer ID</th>\n",
              "      <th>Customer Name</th>\n",
              "      <th>Segment</th>\n",
              "      <th>City</th>\n",
              "      <th>State</th>\n",
              "      <th>...</th>\n",
              "      <th>Product ID</th>\n",
              "      <th>Category</th>\n",
              "      <th>Sub-Category</th>\n",
              "      <th>Product Name</th>\n",
              "      <th>Sales</th>\n",
              "      <th>Quantity</th>\n",
              "      <th>Discount</th>\n",
              "      <th>Profit</th>\n",
              "      <th>Shipping Cost</th>\n",
              "      <th>Order Priority</th>\n",
              "    </tr>\n",
              "  </thead>\n",
              "  <tbody>\n",
              "    <tr>\n",
              "      <th>51285</th>\n",
              "      <td>29002</td>\n",
              "      <td>IN-2014-62366</td>\n",
              "      <td>2014-06-19</td>\n",
              "      <td>2014-06-19</td>\n",
              "      <td>Same Day</td>\n",
              "      <td>KE-16420</td>\n",
              "      <td>Katrina Edelman</td>\n",
              "      <td>Corporate</td>\n",
              "      <td>Kure</td>\n",
              "      <td>Hiroshima</td>\n",
              "      <td>...</td>\n",
              "      <td>OFF-FA-10000746</td>\n",
              "      <td>Office Supplies</td>\n",
              "      <td>Fasteners</td>\n",
              "      <td>Advantus Thumb Tacks, 12 Pack</td>\n",
              "      <td>65.100</td>\n",
              "      <td>5</td>\n",
              "      <td>0.0</td>\n",
              "      <td>4.5000</td>\n",
              "      <td>0.010</td>\n",
              "      <td>Medium</td>\n",
              "    </tr>\n",
              "    <tr>\n",
              "      <th>51286</th>\n",
              "      <td>35398</td>\n",
              "      <td>US-2014-102288</td>\n",
              "      <td>2014-06-20</td>\n",
              "      <td>2014-06-24</td>\n",
              "      <td>Standard Class</td>\n",
              "      <td>ZC-21910</td>\n",
              "      <td>Zuschuss Carroll</td>\n",
              "      <td>Consumer</td>\n",
              "      <td>Houston</td>\n",
              "      <td>Texas</td>\n",
              "      <td>...</td>\n",
              "      <td>OFF-AP-10002906</td>\n",
              "      <td>Office Supplies</td>\n",
              "      <td>Appliances</td>\n",
              "      <td>Hoover Replacement Belt for Commercial Guardsm...</td>\n",
              "      <td>0.444</td>\n",
              "      <td>1</td>\n",
              "      <td>0.8</td>\n",
              "      <td>-1.1100</td>\n",
              "      <td>0.010</td>\n",
              "      <td>Medium</td>\n",
              "    </tr>\n",
              "    <tr>\n",
              "      <th>51287</th>\n",
              "      <td>40470</td>\n",
              "      <td>US-2013-155768</td>\n",
              "      <td>2013-12-02</td>\n",
              "      <td>2013-12-02</td>\n",
              "      <td>Same Day</td>\n",
              "      <td>LB-16795</td>\n",
              "      <td>Laurel Beltran</td>\n",
              "      <td>Home Office</td>\n",
              "      <td>Oxnard</td>\n",
              "      <td>California</td>\n",
              "      <td>...</td>\n",
              "      <td>OFF-EN-10001219</td>\n",
              "      <td>Office Supplies</td>\n",
              "      <td>Envelopes</td>\n",
              "      <td>#10- 4 1/8\" x 9 1/2\" Security-Tint Envelopes</td>\n",
              "      <td>22.920</td>\n",
              "      <td>3</td>\n",
              "      <td>0.0</td>\n",
              "      <td>11.2308</td>\n",
              "      <td>0.010</td>\n",
              "      <td>High</td>\n",
              "    </tr>\n",
              "    <tr>\n",
              "      <th>51288</th>\n",
              "      <td>9596</td>\n",
              "      <td>MX-2012-140767</td>\n",
              "      <td>2012-02-18</td>\n",
              "      <td>2012-02-22</td>\n",
              "      <td>Standard Class</td>\n",
              "      <td>RB-19795</td>\n",
              "      <td>Ross Baird</td>\n",
              "      <td>Home Office</td>\n",
              "      <td>Valinhos</td>\n",
              "      <td>São Paulo</td>\n",
              "      <td>...</td>\n",
              "      <td>OFF-BI-10000806</td>\n",
              "      <td>Office Supplies</td>\n",
              "      <td>Binders</td>\n",
              "      <td>Acco Index Tab, Economy</td>\n",
              "      <td>13.440</td>\n",
              "      <td>2</td>\n",
              "      <td>0.0</td>\n",
              "      <td>2.4000</td>\n",
              "      <td>0.003</td>\n",
              "      <td>Medium</td>\n",
              "    </tr>\n",
              "    <tr>\n",
              "      <th>51289</th>\n",
              "      <td>6147</td>\n",
              "      <td>MX-2012-134460</td>\n",
              "      <td>2012-05-22</td>\n",
              "      <td>2012-05-26</td>\n",
              "      <td>Second Class</td>\n",
              "      <td>MC-18100</td>\n",
              "      <td>Mick Crebagga</td>\n",
              "      <td>Consumer</td>\n",
              "      <td>Tipitapa</td>\n",
              "      <td>Managua</td>\n",
              "      <td>...</td>\n",
              "      <td>OFF-PA-10004155</td>\n",
              "      <td>Office Supplies</td>\n",
              "      <td>Paper</td>\n",
              "      <td>Eaton Computer Printout Paper, 8.5 x 11</td>\n",
              "      <td>61.380</td>\n",
              "      <td>3</td>\n",
              "      <td>0.0</td>\n",
              "      <td>1.8000</td>\n",
              "      <td>0.002</td>\n",
              "      <td>High</td>\n",
              "    </tr>\n",
              "  </tbody>\n",
              "</table>\n",
              "<p>5 rows × 24 columns</p>\n",
              "</div>"
            ],
            "text/plain": [
              "       Row ID        Order ID Order Date  Ship Date       Ship Mode  \\\n",
              "51285   29002   IN-2014-62366 2014-06-19 2014-06-19        Same Day   \n",
              "51286   35398  US-2014-102288 2014-06-20 2014-06-24  Standard Class   \n",
              "51287   40470  US-2013-155768 2013-12-02 2013-12-02        Same Day   \n",
              "51288    9596  MX-2012-140767 2012-02-18 2012-02-22  Standard Class   \n",
              "51289    6147  MX-2012-134460 2012-05-22 2012-05-26    Second Class   \n",
              "\n",
              "      Customer ID     Customer Name      Segment      City       State  ...  \\\n",
              "51285    KE-16420   Katrina Edelman    Corporate      Kure   Hiroshima  ...   \n",
              "51286    ZC-21910  Zuschuss Carroll     Consumer   Houston       Texas  ...   \n",
              "51287    LB-16795    Laurel Beltran  Home Office    Oxnard  California  ...   \n",
              "51288    RB-19795        Ross Baird  Home Office  Valinhos   São Paulo  ...   \n",
              "51289    MC-18100     Mick Crebagga     Consumer  Tipitapa     Managua  ...   \n",
              "\n",
              "            Product ID         Category Sub-Category  \\\n",
              "51285  OFF-FA-10000746  Office Supplies    Fasteners   \n",
              "51286  OFF-AP-10002906  Office Supplies   Appliances   \n",
              "51287  OFF-EN-10001219  Office Supplies    Envelopes   \n",
              "51288  OFF-BI-10000806  Office Supplies      Binders   \n",
              "51289  OFF-PA-10004155  Office Supplies        Paper   \n",
              "\n",
              "                                            Product Name   Sales Quantity  \\\n",
              "51285                      Advantus Thumb Tacks, 12 Pack  65.100        5   \n",
              "51286  Hoover Replacement Belt for Commercial Guardsm...   0.444        1   \n",
              "51287       #10- 4 1/8\" x 9 1/2\" Security-Tint Envelopes  22.920        3   \n",
              "51288                            Acco Index Tab, Economy  13.440        2   \n",
              "51289            Eaton Computer Printout Paper, 8.5 x 11  61.380        3   \n",
              "\n",
              "      Discount   Profit  Shipping Cost  Order Priority  \n",
              "51285      0.0   4.5000          0.010          Medium  \n",
              "51286      0.8  -1.1100          0.010          Medium  \n",
              "51287      0.0  11.2308          0.010            High  \n",
              "51288      0.0   2.4000          0.003          Medium  \n",
              "51289      0.0   1.8000          0.002            High  \n",
              "\n",
              "[5 rows x 24 columns]"
            ]
          },
          "execution_count": 11,
          "metadata": {},
          "output_type": "execute_result"
        }
      ],
      "source": [
        "df.tail()"
      ]
    },
    {
      "cell_type": "code",
      "execution_count": 12,
      "metadata": {
        "colab": {
          "base_uri": "https://localhost:8080/",
          "height": 300
        },
        "id": "pSWDTVrSZDou",
        "outputId": "88931b30-7414-493d-a7a0-80d65a302cb1"
      },
      "outputs": [
        {
          "data": {
            "text/html": [
              "<div>\n",
              "<style scoped>\n",
              "    .dataframe tbody tr th:only-of-type {\n",
              "        vertical-align: middle;\n",
              "    }\n",
              "\n",
              "    .dataframe tbody tr th {\n",
              "        vertical-align: top;\n",
              "    }\n",
              "\n",
              "    .dataframe thead th {\n",
              "        text-align: right;\n",
              "    }\n",
              "</style>\n",
              "<table border=\"1\" class=\"dataframe\">\n",
              "  <thead>\n",
              "    <tr style=\"text-align: right;\">\n",
              "      <th></th>\n",
              "      <th>Row ID</th>\n",
              "      <th>Order Date</th>\n",
              "      <th>Ship Date</th>\n",
              "      <th>Postal Code</th>\n",
              "      <th>Sales</th>\n",
              "      <th>Quantity</th>\n",
              "      <th>Discount</th>\n",
              "      <th>Profit</th>\n",
              "      <th>Shipping Cost</th>\n",
              "    </tr>\n",
              "  </thead>\n",
              "  <tbody>\n",
              "    <tr>\n",
              "      <th>count</th>\n",
              "      <td>51290.00000</td>\n",
              "      <td>51290</td>\n",
              "      <td>51290</td>\n",
              "      <td>9994.000000</td>\n",
              "      <td>51290.000000</td>\n",
              "      <td>51290.000000</td>\n",
              "      <td>51290.000000</td>\n",
              "      <td>51290.000000</td>\n",
              "      <td>51290.000000</td>\n",
              "    </tr>\n",
              "    <tr>\n",
              "      <th>mean</th>\n",
              "      <td>25645.50000</td>\n",
              "      <td>2013-05-11 21:26:49.155781120</td>\n",
              "      <td>2013-05-15 20:42:42.745174528</td>\n",
              "      <td>55190.379428</td>\n",
              "      <td>246.490581</td>\n",
              "      <td>3.476545</td>\n",
              "      <td>0.142908</td>\n",
              "      <td>28.610982</td>\n",
              "      <td>26.375818</td>\n",
              "    </tr>\n",
              "    <tr>\n",
              "      <th>min</th>\n",
              "      <td>1.00000</td>\n",
              "      <td>2011-01-01 00:00:00</td>\n",
              "      <td>2011-01-03 00:00:00</td>\n",
              "      <td>1040.000000</td>\n",
              "      <td>0.444000</td>\n",
              "      <td>1.000000</td>\n",
              "      <td>0.000000</td>\n",
              "      <td>-6599.978000</td>\n",
              "      <td>0.002000</td>\n",
              "    </tr>\n",
              "    <tr>\n",
              "      <th>25%</th>\n",
              "      <td>12823.25000</td>\n",
              "      <td>2012-06-19 00:00:00</td>\n",
              "      <td>2012-06-23 00:00:00</td>\n",
              "      <td>23223.000000</td>\n",
              "      <td>30.758625</td>\n",
              "      <td>2.000000</td>\n",
              "      <td>0.000000</td>\n",
              "      <td>0.000000</td>\n",
              "      <td>2.610000</td>\n",
              "    </tr>\n",
              "    <tr>\n",
              "      <th>50%</th>\n",
              "      <td>25645.50000</td>\n",
              "      <td>2013-07-08 00:00:00</td>\n",
              "      <td>2013-07-12 00:00:00</td>\n",
              "      <td>56430.500000</td>\n",
              "      <td>85.053000</td>\n",
              "      <td>3.000000</td>\n",
              "      <td>0.000000</td>\n",
              "      <td>9.240000</td>\n",
              "      <td>7.790000</td>\n",
              "    </tr>\n",
              "    <tr>\n",
              "      <th>75%</th>\n",
              "      <td>38467.75000</td>\n",
              "      <td>2014-05-22 00:00:00</td>\n",
              "      <td>2014-05-26 00:00:00</td>\n",
              "      <td>90008.000000</td>\n",
              "      <td>251.053200</td>\n",
              "      <td>5.000000</td>\n",
              "      <td>0.200000</td>\n",
              "      <td>36.810000</td>\n",
              "      <td>24.450000</td>\n",
              "    </tr>\n",
              "    <tr>\n",
              "      <th>max</th>\n",
              "      <td>51290.00000</td>\n",
              "      <td>2014-12-31 00:00:00</td>\n",
              "      <td>2015-01-07 00:00:00</td>\n",
              "      <td>99301.000000</td>\n",
              "      <td>22638.480000</td>\n",
              "      <td>14.000000</td>\n",
              "      <td>0.850000</td>\n",
              "      <td>8399.976000</td>\n",
              "      <td>933.570000</td>\n",
              "    </tr>\n",
              "    <tr>\n",
              "      <th>std</th>\n",
              "      <td>14806.29199</td>\n",
              "      <td>NaN</td>\n",
              "      <td>NaN</td>\n",
              "      <td>32063.693350</td>\n",
              "      <td>487.565361</td>\n",
              "      <td>2.278766</td>\n",
              "      <td>0.212280</td>\n",
              "      <td>174.340972</td>\n",
              "      <td>57.296810</td>\n",
              "    </tr>\n",
              "  </tbody>\n",
              "</table>\n",
              "</div>"
            ],
            "text/plain": [
              "            Row ID                     Order Date  \\\n",
              "count  51290.00000                          51290   \n",
              "mean   25645.50000  2013-05-11 21:26:49.155781120   \n",
              "min        1.00000            2011-01-01 00:00:00   \n",
              "25%    12823.25000            2012-06-19 00:00:00   \n",
              "50%    25645.50000            2013-07-08 00:00:00   \n",
              "75%    38467.75000            2014-05-22 00:00:00   \n",
              "max    51290.00000            2014-12-31 00:00:00   \n",
              "std    14806.29199                            NaN   \n",
              "\n",
              "                           Ship Date   Postal Code         Sales  \\\n",
              "count                          51290   9994.000000  51290.000000   \n",
              "mean   2013-05-15 20:42:42.745174528  55190.379428    246.490581   \n",
              "min              2011-01-03 00:00:00   1040.000000      0.444000   \n",
              "25%              2012-06-23 00:00:00  23223.000000     30.758625   \n",
              "50%              2013-07-12 00:00:00  56430.500000     85.053000   \n",
              "75%              2014-05-26 00:00:00  90008.000000    251.053200   \n",
              "max              2015-01-07 00:00:00  99301.000000  22638.480000   \n",
              "std                              NaN  32063.693350    487.565361   \n",
              "\n",
              "           Quantity      Discount        Profit  Shipping Cost  \n",
              "count  51290.000000  51290.000000  51290.000000   51290.000000  \n",
              "mean       3.476545      0.142908     28.610982      26.375818  \n",
              "min        1.000000      0.000000  -6599.978000       0.002000  \n",
              "25%        2.000000      0.000000      0.000000       2.610000  \n",
              "50%        3.000000      0.000000      9.240000       7.790000  \n",
              "75%        5.000000      0.200000     36.810000      24.450000  \n",
              "max       14.000000      0.850000   8399.976000     933.570000  \n",
              "std        2.278766      0.212280    174.340972      57.296810  "
            ]
          },
          "execution_count": 12,
          "metadata": {},
          "output_type": "execute_result"
        }
      ],
      "source": [
        "df.describe()"
      ]
    },
    {
      "cell_type": "code",
      "execution_count": 13,
      "metadata": {
        "colab": {
          "base_uri": "https://localhost:8080/"
        },
        "id": "7OTijKteZDrU",
        "outputId": "92b39c3b-ac20-4d19-a9d9-f4236f63bde9"
      },
      "outputs": [
        {
          "data": {
            "text/plain": [
              "Row ID                0\n",
              "Order ID              0\n",
              "Order Date            0\n",
              "Ship Date             0\n",
              "Ship Mode             0\n",
              "Customer ID           0\n",
              "Customer Name         0\n",
              "Segment               0\n",
              "City                  0\n",
              "State                 0\n",
              "Country               0\n",
              "Postal Code       41296\n",
              "Market                0\n",
              "Region                0\n",
              "Product ID            0\n",
              "Category              0\n",
              "Sub-Category          0\n",
              "Product Name          0\n",
              "Sales                 0\n",
              "Quantity              0\n",
              "Discount              0\n",
              "Profit                0\n",
              "Shipping Cost         0\n",
              "Order Priority        0\n",
              "dtype: int64"
            ]
          },
          "execution_count": 13,
          "metadata": {},
          "output_type": "execute_result"
        }
      ],
      "source": [
        "df.isnull().sum()"
      ]
    },
    {
      "cell_type": "code",
      "execution_count": 14,
      "metadata": {
        "colab": {
          "base_uri": "https://localhost:8080/"
        },
        "id": "IwcL2DjFZDuP",
        "outputId": "5153f964-7d58-45f8-a7d2-00df16e104d8"
      },
      "outputs": [
        {
          "data": {
            "text/plain": [
              "dtype('float64')"
            ]
          },
          "execution_count": 14,
          "metadata": {},
          "output_type": "execute_result"
        }
      ],
      "source": [
        "df['Postal Code'].dtype"
      ]
    },
    {
      "cell_type": "code",
      "execution_count": 18,
      "metadata": {
        "id": "x4q0uLHCZDxB"
      },
      "outputs": [],
      "source": [
        "for col in df.columns:\n",
        "  if pd.api.types.is_numeric_dtype(df[col]):\n",
        "    df.fillna({col: df[col].mean()}, inplace=True)\n",
        "\n"
      ]
    },
    {
      "cell_type": "code",
      "execution_count": 19,
      "metadata": {
        "colab": {
          "base_uri": "https://localhost:8080/"
        },
        "id": "7DfCzPT5ZDzk",
        "outputId": "47663285-e8ee-4fb7-a805-bd5b877237c5"
      },
      "outputs": [
        {
          "data": {
            "text/plain": [
              "Row ID            0\n",
              "Order ID          0\n",
              "Order Date        0\n",
              "Ship Date         0\n",
              "Ship Mode         0\n",
              "Customer ID       0\n",
              "Customer Name     0\n",
              "Segment           0\n",
              "City              0\n",
              "State             0\n",
              "Country           0\n",
              "Postal Code       0\n",
              "Market            0\n",
              "Region            0\n",
              "Product ID        0\n",
              "Category          0\n",
              "Sub-Category      0\n",
              "Product Name      0\n",
              "Sales             0\n",
              "Quantity          0\n",
              "Discount          0\n",
              "Profit            0\n",
              "Shipping Cost     0\n",
              "Order Priority    0\n",
              "dtype: int64"
            ]
          },
          "execution_count": 19,
          "metadata": {},
          "output_type": "execute_result"
        }
      ],
      "source": [
        "df.isnull().sum()"
      ]
    },
    {
      "cell_type": "markdown",
      "metadata": {
        "id": "WwQUK-Cxds14"
      },
      "source": [
        "## Exploratory Data Analysis (EDA)"
      ]
    },
    {
      "cell_type": "markdown",
      "metadata": {
        "id": "9quneVWD0Cpy"
      },
      "source": [
        "## Total Sales\n",
        "\n"
      ]
    },
    {
      "cell_type": "code",
      "execution_count": 20,
      "metadata": {
        "colab": {
          "base_uri": "https://localhost:8080/"
        },
        "id": "ozrl51L70WDv",
        "outputId": "e687151d-d210-4964-862a-f4111a6e581b"
      },
      "outputs": [
        {
          "data": {
            "text/plain": [
              "12642501.909880001"
            ]
          },
          "execution_count": 20,
          "metadata": {},
          "output_type": "execute_result"
        }
      ],
      "source": [
        "df['Sales'].sum()"
      ]
    },
    {
      "cell_type": "markdown",
      "metadata": {
        "id": "PMA0YIzd0Xjw"
      },
      "source": [
        "## Sales trends over time"
      ]
    },
    {
      "cell_type": "code",
      "execution_count": 21,
      "metadata": {
        "colab": {
          "base_uri": "https://localhost:8080/"
        },
        "id": "T8zo1TvLZD42",
        "outputId": "4a2eae4e-cbf8-4e71-bd03-40c647918f23"
      },
      "outputs": [
        {
          "data": {
            "text/plain": [
              "0       2012-07-31\n",
              "1       2013-02-05\n",
              "2       2013-10-17\n",
              "3       2013-01-28\n",
              "4       2013-11-05\n",
              "           ...    \n",
              "51285   2014-06-19\n",
              "51286   2014-06-20\n",
              "51287   2013-12-02\n",
              "51288   2012-02-18\n",
              "51289   2012-05-22\n",
              "Name: Order Date, Length: 51290, dtype: datetime64[ns]"
            ]
          },
          "execution_count": 21,
          "metadata": {},
          "output_type": "execute_result"
        }
      ],
      "source": [
        "df['Order Date']"
      ]
    },
    {
      "cell_type": "code",
      "execution_count": 22,
      "metadata": {
        "id": "M_xNztcWZD_1"
      },
      "outputs": [],
      "source": [
        "df['month_year']=df['Order Date'].apply(lambda a:a.strftime('%Y-%m'))"
      ]
    },
    {
      "cell_type": "code",
      "execution_count": 23,
      "metadata": {
        "colab": {
          "base_uri": "https://localhost:8080/"
        },
        "id": "Pl4O9_8dZEE2",
        "outputId": "fdbde08c-97ce-4732-a0a3-95bc15139207"
      },
      "outputs": [
        {
          "data": {
            "text/plain": [
              "0        2012-07\n",
              "1        2013-02\n",
              "2        2013-10\n",
              "3        2013-01\n",
              "4        2013-11\n",
              "          ...   \n",
              "51285    2014-06\n",
              "51286    2014-06\n",
              "51287    2013-12\n",
              "51288    2012-02\n",
              "51289    2012-05\n",
              "Name: month_year, Length: 51290, dtype: object"
            ]
          },
          "execution_count": 23,
          "metadata": {},
          "output_type": "execute_result"
        }
      ],
      "source": [
        "df['month_year']"
      ]
    },
    {
      "cell_type": "code",
      "execution_count": 24,
      "metadata": {
        "id": "BBaFHR8XZEH4"
      },
      "outputs": [],
      "source": [
        "df_sale=df.groupby('month_year')['Sales'].sum().reset_index()"
      ]
    },
    {
      "cell_type": "code",
      "execution_count": 25,
      "metadata": {
        "colab": {
          "base_uri": "https://localhost:8080/",
          "height": 1000
        },
        "id": "G-H3LsgIZEK_",
        "outputId": "2fe07798-a8c2-4a6c-900e-dea72a73697c"
      },
      "outputs": [
        {
          "data": {
            "text/plain": [
              "([0,\n",
              "  1,\n",
              "  2,\n",
              "  3,\n",
              "  4,\n",
              "  5,\n",
              "  6,\n",
              "  7,\n",
              "  8,\n",
              "  9,\n",
              "  10,\n",
              "  11,\n",
              "  12,\n",
              "  13,\n",
              "  14,\n",
              "  15,\n",
              "  16,\n",
              "  17,\n",
              "  18,\n",
              "  19,\n",
              "  20,\n",
              "  21,\n",
              "  22,\n",
              "  23,\n",
              "  24,\n",
              "  25,\n",
              "  26,\n",
              "  27,\n",
              "  28,\n",
              "  29,\n",
              "  30,\n",
              "  31,\n",
              "  32,\n",
              "  33,\n",
              "  34,\n",
              "  35,\n",
              "  36,\n",
              "  37,\n",
              "  38,\n",
              "  39,\n",
              "  40,\n",
              "  41,\n",
              "  42,\n",
              "  43,\n",
              "  44,\n",
              "  45,\n",
              "  46,\n",
              "  47],\n",
              " [Text(0, 0, '2011-01'),\n",
              "  Text(1, 0, '2011-02'),\n",
              "  Text(2, 0, '2011-03'),\n",
              "  Text(3, 0, '2011-04'),\n",
              "  Text(4, 0, '2011-05'),\n",
              "  Text(5, 0, '2011-06'),\n",
              "  Text(6, 0, '2011-07'),\n",
              "  Text(7, 0, '2011-08'),\n",
              "  Text(8, 0, '2011-09'),\n",
              "  Text(9, 0, '2011-10'),\n",
              "  Text(10, 0, '2011-11'),\n",
              "  Text(11, 0, '2011-12'),\n",
              "  Text(12, 0, '2012-01'),\n",
              "  Text(13, 0, '2012-02'),\n",
              "  Text(14, 0, '2012-03'),\n",
              "  Text(15, 0, '2012-04'),\n",
              "  Text(16, 0, '2012-05'),\n",
              "  Text(17, 0, '2012-06'),\n",
              "  Text(18, 0, '2012-07'),\n",
              "  Text(19, 0, '2012-08'),\n",
              "  Text(20, 0, '2012-09'),\n",
              "  Text(21, 0, '2012-10'),\n",
              "  Text(22, 0, '2012-11'),\n",
              "  Text(23, 0, '2012-12'),\n",
              "  Text(24, 0, '2013-01'),\n",
              "  Text(25, 0, '2013-02'),\n",
              "  Text(26, 0, '2013-03'),\n",
              "  Text(27, 0, '2013-04'),\n",
              "  Text(28, 0, '2013-05'),\n",
              "  Text(29, 0, '2013-06'),\n",
              "  Text(30, 0, '2013-07'),\n",
              "  Text(31, 0, '2013-08'),\n",
              "  Text(32, 0, '2013-09'),\n",
              "  Text(33, 0, '2013-10'),\n",
              "  Text(34, 0, '2013-11'),\n",
              "  Text(35, 0, '2013-12'),\n",
              "  Text(36, 0, '2014-01'),\n",
              "  Text(37, 0, '2014-02'),\n",
              "  Text(38, 0, '2014-03'),\n",
              "  Text(39, 0, '2014-04'),\n",
              "  Text(40, 0, '2014-05'),\n",
              "  Text(41, 0, '2014-06'),\n",
              "  Text(42, 0, '2014-07'),\n",
              "  Text(43, 0, '2014-08'),\n",
              "  Text(44, 0, '2014-09'),\n",
              "  Text(45, 0, '2014-10'),\n",
              "  Text(46, 0, '2014-11'),\n",
              "  Text(47, 0, '2014-12')])"
            ]
          },
          "execution_count": 25,
          "metadata": {},
          "output_type": "execute_result"
        },
        {
          "data": {
            "image/png": "[encoded data removed]",
            "text/plain": [
              "<Figure size 1500x400 with 1 Axes>"
            ]
          },
          "metadata": {},
          "output_type": "display_data"
        }
      ],
      "source": [
        "plt.figure(figsize=(15,4))\n",
        "plt.plot(df_sale['month_year'],df_sale['Sales'])\n",
        "plt.xticks(rotation='vertical')"
      ]
    },
    {
      "cell_type": "markdown",
      "metadata": {
        "id": "M9w4CkMixncn"
      },
      "source": [
        "## Best Selling Products and its visualization"
      ]
    },
    {
      "cell_type": "code",
      "execution_count": 26,
      "metadata": {
        "colab": {
          "base_uri": "https://localhost:8080/",
          "height": 550
        },
        "id": "d1MUPH_V6ZD-",
        "outputId": "38fbaea1-4870-4aab-b920-c0be706735f0"
      },
      "outputs": [
        {
          "data": {
            "text/html": [
              "<div>\n",
              "<style scoped>\n",
              "    .dataframe tbody tr th:only-of-type {\n",
              "        vertical-align: middle;\n",
              "    }\n",
              "\n",
              "    .dataframe tbody tr th {\n",
              "        vertical-align: top;\n",
              "    }\n",
              "\n",
              "    .dataframe thead th {\n",
              "        text-align: right;\n",
              "    }\n",
              "</style>\n",
              "<table border=\"1\" class=\"dataframe\">\n",
              "  <thead>\n",
              "    <tr style=\"text-align: right;\">\n",
              "      <th></th>\n",
              "      <th>Row ID</th>\n",
              "      <th>Order ID</th>\n",
              "      <th>Order Date</th>\n",
              "      <th>Ship Date</th>\n",
              "      <th>Ship Mode</th>\n",
              "      <th>Customer ID</th>\n",
              "      <th>Customer Name</th>\n",
              "      <th>Segment</th>\n",
              "      <th>City</th>\n",
              "      <th>State</th>\n",
              "      <th>...</th>\n",
              "      <th>Category</th>\n",
              "      <th>Sub-Category</th>\n",
              "      <th>Product Name</th>\n",
              "      <th>Sales</th>\n",
              "      <th>Quantity</th>\n",
              "      <th>Discount</th>\n",
              "      <th>Profit</th>\n",
              "      <th>Shipping Cost</th>\n",
              "      <th>Order Priority</th>\n",
              "      <th>month_year</th>\n",
              "    </tr>\n",
              "  </thead>\n",
              "  <tbody>\n",
              "    <tr>\n",
              "      <th>51285</th>\n",
              "      <td>29002</td>\n",
              "      <td>IN-2014-62366</td>\n",
              "      <td>2014-06-19</td>\n",
              "      <td>2014-06-19</td>\n",
              "      <td>Same Day</td>\n",
              "      <td>KE-16420</td>\n",
              "      <td>Katrina Edelman</td>\n",
              "      <td>Corporate</td>\n",
              "      <td>Kure</td>\n",
              "      <td>Hiroshima</td>\n",
              "      <td>...</td>\n",
              "      <td>Office Supplies</td>\n",
              "      <td>Fasteners</td>\n",
              "      <td>Advantus Thumb Tacks, 12 Pack</td>\n",
              "      <td>65.100</td>\n",
              "      <td>5</td>\n",
              "      <td>0.0</td>\n",
              "      <td>4.5000</td>\n",
              "      <td>0.010</td>\n",
              "      <td>Medium</td>\n",
              "      <td>2014-06</td>\n",
              "    </tr>\n",
              "    <tr>\n",
              "      <th>51286</th>\n",
              "      <td>35398</td>\n",
              "      <td>US-2014-102288</td>\n",
              "      <td>2014-06-20</td>\n",
              "      <td>2014-06-24</td>\n",
              "      <td>Standard Class</td>\n",
              "      <td>ZC-21910</td>\n",
              "      <td>Zuschuss Carroll</td>\n",
              "      <td>Consumer</td>\n",
              "      <td>Houston</td>\n",
              "      <td>Texas</td>\n",
              "      <td>...</td>\n",
              "      <td>Office Supplies</td>\n",
              "      <td>Appliances</td>\n",
              "      <td>Hoover Replacement Belt for Commercial Guardsm...</td>\n",
              "      <td>0.444</td>\n",
              "      <td>1</td>\n",
              "      <td>0.8</td>\n",
              "      <td>-1.1100</td>\n",
              "      <td>0.010</td>\n",
              "      <td>Medium</td>\n",
              "      <td>2014-06</td>\n",
              "    </tr>\n",
              "    <tr>\n",
              "      <th>51287</th>\n",
              "      <td>40470</td>\n",
              "      <td>US-2013-155768</td>\n",
              "      <td>2013-12-02</td>\n",
              "      <td>2013-12-02</td>\n",
              "      <td>Same Day</td>\n",
              "      <td>LB-16795</td>\n",
              "      <td>Laurel Beltran</td>\n",
              "      <td>Home Office</td>\n",
              "      <td>Oxnard</td>\n",
              "      <td>California</td>\n",
              "      <td>...</td>\n",
              "      <td>Office Supplies</td>\n",
              "      <td>Envelopes</td>\n",
              "      <td>#10- 4 1/8\" x 9 1/2\" Security-Tint Envelopes</td>\n",
              "      <td>22.920</td>\n",
              "      <td>3</td>\n",
              "      <td>0.0</td>\n",
              "      <td>11.2308</td>\n",
              "      <td>0.010</td>\n",
              "      <td>High</td>\n",
              "      <td>2013-12</td>\n",
              "    </tr>\n",
              "    <tr>\n",
              "      <th>51288</th>\n",
              "      <td>9596</td>\n",
              "      <td>MX-2012-140767</td>\n",
              "      <td>2012-02-18</td>\n",
              "      <td>2012-02-22</td>\n",
              "      <td>Standard Class</td>\n",
              "      <td>RB-19795</td>\n",
              "      <td>Ross Baird</td>\n",
              "      <td>Home Office</td>\n",
              "      <td>Valinhos</td>\n",
              "      <td>São Paulo</td>\n",
              "      <td>...</td>\n",
              "      <td>Office Supplies</td>\n",
              "      <td>Binders</td>\n",
              "      <td>Acco Index Tab, Economy</td>\n",
              "      <td>13.440</td>\n",
              "      <td>2</td>\n",
              "      <td>0.0</td>\n",
              "      <td>2.4000</td>\n",
              "      <td>0.003</td>\n",
              "      <td>Medium</td>\n",
              "      <td>2012-02</td>\n",
              "    </tr>\n",
              "    <tr>\n",
              "      <th>51289</th>\n",
              "      <td>6147</td>\n",
              "      <td>MX-2012-134460</td>\n",
              "      <td>2012-05-22</td>\n",
              "      <td>2012-05-26</td>\n",
              "      <td>Second Class</td>\n",
              "      <td>MC-18100</td>\n",
              "      <td>Mick Crebagga</td>\n",
              "      <td>Consumer</td>\n",
              "      <td>Tipitapa</td>\n",
              "      <td>Managua</td>\n",
              "      <td>...</td>\n",
              "      <td>Office Supplies</td>\n",
              "      <td>Paper</td>\n",
              "      <td>Eaton Computer Printout Paper, 8.5 x 11</td>\n",
              "      <td>61.380</td>\n",
              "      <td>3</td>\n",
              "      <td>0.0</td>\n",
              "      <td>1.8000</td>\n",
              "      <td>0.002</td>\n",
              "      <td>High</td>\n",
              "      <td>2012-05</td>\n",
              "    </tr>\n",
              "  </tbody>\n",
              "</table>\n",
              "<p>5 rows × 25 columns</p>\n",
              "</div>"
            ],
            "text/plain": [
              "       Row ID        Order ID Order Date  Ship Date       Ship Mode  \\\n",
              "51285   29002   IN-2014-62366 2014-06-19 2014-06-19        Same Day   \n",
              "51286   35398  US-2014-102288 2014-06-20 2014-06-24  Standard Class   \n",
              "51287   40470  US-2013-155768 2013-12-02 2013-12-02        Same Day   \n",
              "51288    9596  MX-2012-140767 2012-02-18 2012-02-22  Standard Class   \n",
              "51289    6147  MX-2012-134460 2012-05-22 2012-05-26    Second Class   \n",
              "\n",
              "      Customer ID     Customer Name      Segment      City       State  ...  \\\n",
              "51285    KE-16420   Katrina Edelman    Corporate      Kure   Hiroshima  ...   \n",
              "51286    ZC-21910  Zuschuss Carroll     Consumer   Houston       Texas  ...   \n",
              "51287    LB-16795    Laurel Beltran  Home Office    Oxnard  California  ...   \n",
              "51288    RB-19795        Ross Baird  Home Office  Valinhos   São Paulo  ...   \n",
              "51289    MC-18100     Mick Crebagga     Consumer  Tipitapa     Managua  ...   \n",
              "\n",
              "              Category  Sub-Category  \\\n",
              "51285  Office Supplies     Fasteners   \n",
              "51286  Office Supplies    Appliances   \n",
              "51287  Office Supplies     Envelopes   \n",
              "51288  Office Supplies       Binders   \n",
              "51289  Office Supplies         Paper   \n",
              "\n",
              "                                            Product Name   Sales Quantity  \\\n",
              "51285                      Advantus Thumb Tacks, 12 Pack  65.100        5   \n",
              "51286  Hoover Replacement Belt for Commercial Guardsm...   0.444        1   \n",
              "51287       #10- 4 1/8\" x 9 1/2\" Security-Tint Envelopes  22.920        3   \n",
              "51288                            Acco Index Tab, Economy  13.440        2   \n",
              "51289            Eaton Computer Printout Paper, 8.5 x 11  61.380        3   \n",
              "\n",
              "      Discount   Profit Shipping Cost  Order Priority  month_year  \n",
              "51285      0.0   4.5000         0.010          Medium     2014-06  \n",
              "51286      0.8  -1.1100         0.010          Medium     2014-06  \n",
              "51287      0.0  11.2308         0.010            High     2013-12  \n",
              "51288      0.0   2.4000         0.003          Medium     2012-02  \n",
              "51289      0.0   1.8000         0.002            High     2012-05  \n",
              "\n",
              "[5 rows x 25 columns]"
            ]
          },
          "execution_count": 26,
          "metadata": {},
          "output_type": "execute_result"
        }
      ],
      "source": [
        "df.tail()"
      ]
    },
    {
      "cell_type": "code",
      "execution_count": 42,
      "metadata": {
        "id": "zdxfBxtd-Jlu"
      },
      "outputs": [],
      "source": [
        "prod_qu=df[['Product Name','Quantity']]"
      ]
    },
    {
      "cell_type": "code",
      "execution_count": 46,
      "metadata": {},
      "outputs": [
        {
          "data": {
            "text/html": [
              "<div>\n",
              "<style scoped>\n",
              "    .dataframe tbody tr th:only-of-type {\n",
              "        vertical-align: middle;\n",
              "    }\n",
              "\n",
              "    .dataframe tbody tr th {\n",
              "        vertical-align: top;\n",
              "    }\n",
              "\n",
              "    .dataframe thead th {\n",
              "        text-align: right;\n",
              "    }\n",
              "</style>\n",
              "<table border=\"1\" class=\"dataframe\">\n",
              "  <thead>\n",
              "    <tr style=\"text-align: right;\">\n",
              "      <th></th>\n",
              "      <th>Product Name</th>\n",
              "      <th>Quantity</th>\n",
              "    </tr>\n",
              "  </thead>\n",
              "  <tbody>\n",
              "    <tr>\n",
              "      <th>0</th>\n",
              "      <td>Plantronics CS510 - Over-the-Head monaural Wir...</td>\n",
              "      <td>7</td>\n",
              "    </tr>\n",
              "    <tr>\n",
              "      <th>1</th>\n",
              "      <td>Novimex Executive Leather Armchair, Black</td>\n",
              "      <td>9</td>\n",
              "    </tr>\n",
              "    <tr>\n",
              "      <th>2</th>\n",
              "      <td>Nokia Smart Phone, with Caller ID</td>\n",
              "      <td>9</td>\n",
              "    </tr>\n",
              "    <tr>\n",
              "      <th>3</th>\n",
              "      <td>Motorola Smart Phone, Cordless</td>\n",
              "      <td>5</td>\n",
              "    </tr>\n",
              "    <tr>\n",
              "      <th>4</th>\n",
              "      <td>Sharp Wireless Fax, High-Speed</td>\n",
              "      <td>8</td>\n",
              "    </tr>\n",
              "    <tr>\n",
              "      <th>5</th>\n",
              "      <td>Samsung Smart Phone, with Caller ID</td>\n",
              "      <td>5</td>\n",
              "    </tr>\n",
              "    <tr>\n",
              "      <th>6</th>\n",
              "      <td>Novimex Executive Leather Armchair, Adjustable</td>\n",
              "      <td>4</td>\n",
              "    </tr>\n",
              "    <tr>\n",
              "      <th>7</th>\n",
              "      <td>Chromcraft Conference Table, Fully Assembled</td>\n",
              "      <td>6</td>\n",
              "    </tr>\n",
              "    <tr>\n",
              "      <th>8</th>\n",
              "      <td>Fellowes PB500 Electric Punch Plastic Comb Bin...</td>\n",
              "      <td>5</td>\n",
              "    </tr>\n",
              "    <tr>\n",
              "      <th>9</th>\n",
              "      <td>Chromcraft Bull-Nose Wood Oval Conference Tabl...</td>\n",
              "      <td>13</td>\n",
              "    </tr>\n",
              "  </tbody>\n",
              "</table>\n",
              "</div>"
            ],
            "text/plain": [
              "                                        Product Name  Quantity\n",
              "0  Plantronics CS510 - Over-the-Head monaural Wir...         7\n",
              "1          Novimex Executive Leather Armchair, Black         9\n",
              "2                  Nokia Smart Phone, with Caller ID         9\n",
              "3                     Motorola Smart Phone, Cordless         5\n",
              "4                     Sharp Wireless Fax, High-Speed         8\n",
              "5                Samsung Smart Phone, with Caller ID         5\n",
              "6     Novimex Executive Leather Armchair, Adjustable         4\n",
              "7       Chromcraft Conference Table, Fully Assembled         6\n",
              "8  Fellowes PB500 Electric Punch Plastic Comb Bin...         5\n",
              "9  Chromcraft Bull-Nose Wood Oval Conference Tabl...        13"
            ]
          },
          "execution_count": 46,
          "metadata": {},
          "output_type": "execute_result"
        }
      ],
      "source": [
        "new1=prod_qu.head(10)\n",
        "new1"
      ]
    },
    {
      "cell_type": "code",
      "execution_count": 47,
      "metadata": {
        "id": "IddF8ilm6Y-j"
      },
      "outputs": [],
      "source": [
        "msp=prod_qu.groupby('Product Name')['Quantity'].sum().sort_values(ascending=False)"
      ]
    },
    {
      "cell_type": "code",
      "execution_count": 48,
      "metadata": {
        "id": "ku6ywBJw8JDZ"
      },
      "outputs": [],
      "source": [
        "new2=msp.head(10)"
      ]
    },
    {
      "cell_type": "code",
      "execution_count": 49,
      "metadata": {
        "colab": {
          "base_uri": "https://localhost:8080/"
        },
        "id": "cQYfJ4G58I96",
        "outputId": "95f8855f-bbf7-4068-8a71-62e81a7db722"
      },
      "outputs": [
        {
          "data": {
            "text/plain": [
              "Product Name\n",
              "Staples                                  876\n",
              "Cardinal Index Tab, Clear                337\n",
              "Eldon File Cart, Single Width            321\n",
              "Rogers File Cart, Single Width           262\n",
              "Sanford Pencil Sharpener, Water Color    259\n",
              "Stockwell Paper Clips, Assorted Sizes    253\n",
              "Avery Index Tab, Clear                   252\n",
              "Ibico Index Tab, Clear                   251\n",
              "Smead File Cart, Single Width            250\n",
              "Stanley Pencil Sharpener, Water Color    242\n",
              "Name: Quantity, dtype: int64"
            ]
          },
          "execution_count": 49,
          "metadata": {},
          "output_type": "execute_result"
        }
      ],
      "source": [
        "new2"
      ]
    },
    {
      "cell_type": "code",
      "execution_count": 56,
      "metadata": {
        "colab": {
          "base_uri": "https://localhost:8080/",
          "height": 702
        },
        "id": "UEaZoFDz8I7I",
        "outputId": "0ab5489b-80ad-44f9-8c6c-ed55ecb13128"
      },
      "outputs": [
        {
          "data": {
            "image/png": "[encoded data removed]",
            "text/plain": [
              "<Figure size 640x480 with 1 Axes>"
            ]
          },
          "metadata": {},
          "output_type": "display_data"
        }
      ],
      "source": [
        "plt.bar(new2.index,new2.values)\n",
        "plt.xlabel('Product Name')\n",
        "plt.ylabel('Quantity')\n",
        "plt.xticks(rotation='vertical')\n",
        "plt.show()"
      ]
    },
    {
      "cell_type": "code",
      "execution_count": 204,
      "metadata": {
        "id": "NlyEZkrqx57u"
      },
      "outputs": [],
      "source": []
    }
  ],
  "metadata": {
    "colab": {
      "provenance": []
    },
    "kernelspec": {
      "display_name": "Python 3",
      "name": "python3"
    },
    "language_info": {
      "codemirror_mode": {
        "name": "ipython",
        "version": 3
      },
      "file_extension": ".py",
      "mimetype": "text/x-python",
      "name": "python",
      "nbconvert_exporter": "python",
      "pygments_lexer": "ipython3",
      "version": "3.12.2"
    }
  },
  "nbformat": 4,
  "nbformat_minor": 0
}
